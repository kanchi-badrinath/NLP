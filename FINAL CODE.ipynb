{
 "cells": [
  {
   "attachments": {},
   "cell_type": "markdown",
   "id": "2ec125e6",
   "metadata": {},
   "source": [
    "# #"
   ]
  },
  {
   "cell_type": "markdown",
   "id": "0b4d9e76-f79c-4c33-a72c-9d9cf6c4935f",
   "metadata": {},
   "source": [
    " # Automated Title Generation for Academic Papers through Natural Language Processing Techniques"
   ]
  },
  {
   "cell_type": "markdown",
   "id": "99a374b6-3fe5-4915-897e-dc426ea57765",
   "metadata": {},
   "source": [
    "# Model 1"
   ]
  },
  {
   "cell_type": "code",
   "execution_count": 56,
   "id": "cc25ea23-59a7-4d19-bfdd-28a003cdb703",
   "metadata": {},
   "outputs": [],
   "source": [
    "import pandas as pd \n",
    "import numpy as np\n",
    "import heapq\n",
    "\n",
    "import torch\n",
    "import torch.nn as nn\n",
    "import torch.optim as optim\n",
    "import torch.nn.functional as F\n",
    "from torch.utils.data import DataLoader, TensorDataset\n",
    "from sklearn.model_selection import train_test_split\n",
    "\n",
    "import matplotlib.pyplot as plt  \n"
   ]
  },
  {
   "cell_type": "code",
   "execution_count": 57,
   "id": "04291844-7285-4c1b-a7e9-e1c0b66fc836",
   "metadata": {},
   "outputs": [
    {
     "data": {
      "text/html": [
       "<div>\n",
       "<style scoped>\n",
       "    .dataframe tbody tr th:only-of-type {\n",
       "        vertical-align: middle;\n",
       "    }\n",
       "\n",
       "    .dataframe tbody tr th {\n",
       "        vertical-align: top;\n",
       "    }\n",
       "\n",
       "    .dataframe thead th {\n",
       "        text-align: right;\n",
       "    }\n",
       "</style>\n",
       "<table border=\"1\" class=\"dataframe\">\n",
       "  <thead>\n",
       "    <tr style=\"text-align: right;\">\n",
       "      <th></th>\n",
       "      <th>title</th>\n",
       "    </tr>\n",
       "  </thead>\n",
       "  <tbody>\n",
       "    <tr>\n",
       "      <th>0</th>\n",
       "      <td>SUPER LAZY LIFE HACKS || Cool Hacks To Make Yo...</td>\n",
       "    </tr>\n",
       "    <tr>\n",
       "      <th>1</th>\n",
       "      <td>YUM! EASY SMART FOOD HACKS || Tasty Recipes Fo...</td>\n",
       "    </tr>\n",
       "    <tr>\n",
       "      <th>2</th>\n",
       "      <td>HELPFUL LIFE HACKS FOR YOUR HOUSE</td>\n",
       "    </tr>\n",
       "    <tr>\n",
       "      <th>3</th>\n",
       "      <td>USEFUL HACKS FOR YOUR HOME || Simple Tips That...</td>\n",
       "    </tr>\n",
       "    <tr>\n",
       "      <th>4</th>\n",
       "      <td>ARE YOU A CRAFTY MOM? Amazing Parenting Hacks ...</td>\n",
       "    </tr>\n",
       "    <tr>\n",
       "      <th>5</th>\n",
       "      <td>100+ HACKS &amp; GADGETS FOR COOL PARENTS</td>\n",
       "    </tr>\n",
       "    <tr>\n",
       "      <th>6</th>\n",
       "      <td>30 BEST HACKS FOR EVERY LIFE SITUATION</td>\n",
       "    </tr>\n",
       "    <tr>\n",
       "      <th>7</th>\n",
       "      <td>KID'S ROOM MAKEOVER IDEAS || Awesome Home Deco...</td>\n",
       "    </tr>\n",
       "    <tr>\n",
       "      <th>8</th>\n",
       "      <td>Brilliant Clothing Hacks For Adults and Their ...</td>\n",
       "    </tr>\n",
       "    <tr>\n",
       "      <th>9</th>\n",
       "      <td>BRILLIANT LIFE HACKS FOR ANY SITUATION</td>\n",
       "    </tr>\n",
       "    <tr>\n",
       "      <th>10</th>\n",
       "      <td>OMG! Smart Pet Owners Should See These Gadgets...</td>\n",
       "    </tr>\n",
       "    <tr>\n",
       "      <th>11</th>\n",
       "      <td>CLEVER WAYS TO HIDE YOUR TREASURES || Useful H...</td>\n",
       "    </tr>\n",
       "  </tbody>\n",
       "</table>\n",
       "</div>"
      ],
      "text/plain": [
       "                                                title\n",
       "0   SUPER LAZY LIFE HACKS || Cool Hacks To Make Yo...\n",
       "1   YUM! EASY SMART FOOD HACKS || Tasty Recipes Fo...\n",
       "2                   HELPFUL LIFE HACKS FOR YOUR HOUSE\n",
       "3   USEFUL HACKS FOR YOUR HOME || Simple Tips That...\n",
       "4   ARE YOU A CRAFTY MOM? Amazing Parenting Hacks ...\n",
       "5               100+ HACKS & GADGETS FOR COOL PARENTS\n",
       "6              30 BEST HACKS FOR EVERY LIFE SITUATION\n",
       "7   KID'S ROOM MAKEOVER IDEAS || Awesome Home Deco...\n",
       "8   Brilliant Clothing Hacks For Adults and Their ...\n",
       "9              BRILLIANT LIFE HACKS FOR ANY SITUATION\n",
       "10  OMG! Smart Pet Owners Should See These Gadgets...\n",
       "11  CLEVER WAYS TO HIDE YOUR TREASURES || Useful H..."
      ]
     },
     "execution_count": 57,
     "metadata": {},
     "output_type": "execute_result"
    }
   ],
   "source": [
    "df = pd.read_csv('5-Minute Crafts.csv')\n",
    "titles = df[['title']]\n",
    "titles.head(12)"
   ]
  },
  {
   "cell_type": "code",
   "execution_count": 58,
   "id": "29565d7c-9685-4de3-8dd4-434c164d9fb4",
   "metadata": {},
   "outputs": [
    {
     "data": {
      "text/html": [
       "<div>\n",
       "<style scoped>\n",
       "    .dataframe tbody tr th:only-of-type {\n",
       "        vertical-align: middle;\n",
       "    }\n",
       "\n",
       "    .dataframe tbody tr th {\n",
       "        vertical-align: top;\n",
       "    }\n",
       "\n",
       "    .dataframe thead th {\n",
       "        text-align: right;\n",
       "    }\n",
       "</style>\n",
       "<table border=\"1\" class=\"dataframe\">\n",
       "  <thead>\n",
       "    <tr style=\"text-align: right;\">\n",
       "      <th></th>\n",
       "      <th>title</th>\n",
       "    </tr>\n",
       "  </thead>\n",
       "  <tbody>\n",
       "    <tr>\n",
       "      <th>0</th>\n",
       "      <td>SUPER LAZY LIFE HACKS</td>\n",
       "    </tr>\n",
       "    <tr>\n",
       "      <th>1</th>\n",
       "      <td>YUM! EASY SMART FOOD HACKS</td>\n",
       "    </tr>\n",
       "    <tr>\n",
       "      <th>2</th>\n",
       "      <td>HELPFUL LIFE HACKS FOR YOUR HOUSE</td>\n",
       "    </tr>\n",
       "    <tr>\n",
       "      <th>3</th>\n",
       "      <td>USEFUL HACKS FOR YOUR HOME</td>\n",
       "    </tr>\n",
       "    <tr>\n",
       "      <th>4</th>\n",
       "      <td>ARE YOU A CRAFTY MOM? Amazing Parenting Hacks ...</td>\n",
       "    </tr>\n",
       "  </tbody>\n",
       "</table>\n",
       "</div>"
      ],
      "text/plain": [
       "                                               title\n",
       "0                              SUPER LAZY LIFE HACKS\n",
       "1                         YUM! EASY SMART FOOD HACKS\n",
       "2                  HELPFUL LIFE HACKS FOR YOUR HOUSE\n",
       "3                         USEFUL HACKS FOR YOUR HOME\n",
       "4  ARE YOU A CRAFTY MOM? Amazing Parenting Hacks ..."
      ]
     },
     "execution_count": 58,
     "metadata": {},
     "output_type": "execute_result"
    }
   ],
   "source": [
    "separated_titles = titles['title'].str.replace('&', 'and').str.split(' \\|\\| ', expand=True)\n",
    "cleaned_titles = separated_titles[[0]].rename(columns={0: \"title\"})\n",
    "cleaned_titles.head()"
   ]
  },
  {
   "cell_type": "code",
   "execution_count": 59,
   "id": "954a4aac-447e-4748-bab8-e926d2f8c988",
   "metadata": {},
   "outputs": [],
   "source": [
    "titles = [title for title in cleaned_titles['title']]"
   ]
  },
  {
   "cell_type": "code",
   "execution_count": 60,
   "id": "dd16be1e-3469-4fca-b98e-515ab1b69d17",
   "metadata": {},
   "outputs": [],
   "source": [
    "# Create word to index mapping\n",
    "word_to_idx = {}\n",
    "idx = 1\n",
    "sequences = []\n",
    "\n",
    "for title in titles:\n",
    "    tokens = title.split()\n",
    "    seq = []\n",
    "    for token in tokens:\n",
    "        if token not in word_to_idx:\n",
    "            word_to_idx[token] = idx\n",
    "            idx += 1\n",
    "        seq.append(word_to_idx[token])\n",
    "    sequences.append(seq)\n",
    "\n",
    "max_seq_len = max(len(seq) for seq in sequences)\n",
    "\n",
    "# Pad sequences\n",
    "padded_sequences = [seq + [0] * (max_seq_len - len(seq)) for seq in sequences]\n",
    "padded_sequences = np.array(padded_sequences)\n"
   ]
  },
  {
   "cell_type": "code",
   "execution_count": 61,
   "id": "19641187-592e-4420-94c3-1723531170e8",
   "metadata": {},
   "outputs": [],
   "source": [
    "# split the sequences \n",
    "X_train, X_val = train_test_split(padded_sequences, test_size=0.2, shuffle=True)\n",
    "\n",
    "# Prepare data loaders\n",
    "train_data = TensorDataset(torch.tensor(X_train[:, :-1]), torch.tensor(X_train[:, -1]))\n",
    "train_loader = DataLoader(train_data, batch_size=64, shuffle=True)\n",
    "\n",
    "val_data = TensorDataset(torch.tensor(X_val[:, :-1]), torch.tensor(X_val[:, -1]))\n",
    "val_loader = DataLoader(val_data, batch_size=64, shuffle=False)\n"
   ]
  },
  {
   "cell_type": "code",
   "execution_count": 62,
   "id": "d6b64bd1-aade-4439-a0ee-550e45e1e531",
   "metadata": {},
   "outputs": [],
   "source": [
    "from sklearn.model_selection import train_test_split\n",
    "from torch.utils.data import TensorDataset, DataLoader\n",
    "\n",
    "# Split the sequences\n",
    "X_train, X_val = train_test_split(padded_sequences, test_size=0.2, shuffle=True)\n",
    "X_train, X_test = train_test_split(X_train, test_size=0.1, shuffle=True) \n",
    "\n",
    "# Prepare data loaders\n",
    "train_data = TensorDataset(torch.tensor(X_train[:, :-1]), torch.tensor(X_train[:, -1]))\n",
    "train_loader = DataLoader(train_data, batch_size=64, shuffle=True)\n",
    "\n",
    "val_data = TensorDataset(torch.tensor(X_val[:, :-1]), torch.tensor(X_val[:, -1]))\n",
    "val_loader = DataLoader(val_data, batch_size=64, shuffle=False)\n",
    "\n",
    "test_data = TensorDataset(torch.tensor(X_test[:, :-1]), torch.tensor(X_test[:, -1]))\n",
    "test_loader = DataLoader(test_data, batch_size=64, shuffle=False)\n"
   ]
  },
  {
   "cell_type": "code",
   "execution_count": 63,
   "id": "154c40d5-5302-49f1-b805-01ff52858246",
   "metadata": {},
   "outputs": [],
   "source": [
    "class LSTMModel(nn.Module):\n",
    "    def __init__(self, vocab_size, embedding_dim, hidden_dim):\n",
    "        super(LSTMModel, self).__init__()\n",
    "        self.embedding = nn.Embedding(vocab_size, embedding_dim)\n",
    "        self.lstm1 = nn.LSTM(embedding_dim, hidden_dim, batch_first=True)\n",
    "        self.dropout = nn.Dropout(0.2)\n",
    "        self.lstm2 = nn.LSTM(hidden_dim, hidden_dim, batch_first=True)\n",
    "        self.fc = nn.Linear(hidden_dim, vocab_size)\n",
    "\n",
    "    def forward(self, x):\n",
    "        embedded = self.embedding(x)\n",
    "        lstm_out1, _ = self.lstm1(embedded)\n",
    "        lstm_out2, _ = self.lstm2(self.dropout(lstm_out1))\n",
    "        output = self.fc(lstm_out2[:, -1, :])\n",
    "        return output\n",
    "\n",
    "# Define the model\n",
    "vocab_size = len(word_to_idx) + 1\n",
    "embedding_dim = 200\n",
    "hidden_dim = 100\n",
    "\n",
    "model = LSTMModel(vocab_size, embedding_dim, hidden_dim)\n"
   ]
  },
  {
   "cell_type": "code",
   "execution_count": 64,
   "id": "2e9f5fc8-6b2c-471d-a04c-bee62e7731c5",
   "metadata": {
    "scrolled": true
   },
   "outputs": [
    {
     "name": "stdout",
     "output_type": "stream",
     "text": [
      "Epoch [1/25], Train Loss: 1.8813, Train Accuracy: 0.9740, Val Loss: 0.0312, Val Accuracy: 0.9990\n",
      "Epoch [2/25], Train Loss: 0.0124, Train Accuracy: 1.0000, Val Loss: 0.0200, Val Accuracy: 0.9990\n",
      "Epoch [3/25], Train Loss: 0.0067, Train Accuracy: 1.0000, Val Loss: 0.0172, Val Accuracy: 0.9990\n",
      "Epoch [4/25], Train Loss: 0.0044, Train Accuracy: 1.0000, Val Loss: 0.0160, Val Accuracy: 0.9990\n",
      "Epoch [5/25], Train Loss: 0.0031, Train Accuracy: 1.0000, Val Loss: 0.0153, Val Accuracy: 0.9990\n",
      "Epoch [6/25], Train Loss: 0.0024, Train Accuracy: 1.0000, Val Loss: 0.0150, Val Accuracy: 0.9990\n",
      "Epoch [7/25], Train Loss: 0.0019, Train Accuracy: 1.0000, Val Loss: 0.0148, Val Accuracy: 0.9990\n",
      "Epoch [8/25], Train Loss: 0.0015, Train Accuracy: 1.0000, Val Loss: 0.0147, Val Accuracy: 0.9990\n",
      "Epoch [9/25], Train Loss: 0.0013, Train Accuracy: 1.0000, Val Loss: 0.0146, Val Accuracy: 0.9990\n",
      "Epoch [10/25], Train Loss: 0.0011, Train Accuracy: 1.0000, Val Loss: 0.0146, Val Accuracy: 0.9990\n",
      "Epoch [11/25], Train Loss: 0.0009, Train Accuracy: 1.0000, Val Loss: 0.0146, Val Accuracy: 0.9990\n",
      "Epoch [12/25], Train Loss: 0.0008, Train Accuracy: 1.0000, Val Loss: 0.0147, Val Accuracy: 0.9990\n",
      "Epoch [13/25], Train Loss: 0.0007, Train Accuracy: 1.0000, Val Loss: 0.0147, Val Accuracy: 0.9990\n",
      "Epoch [14/25], Train Loss: 0.0006, Train Accuracy: 1.0000, Val Loss: 0.0147, Val Accuracy: 0.9990\n",
      "Epoch [15/25], Train Loss: 0.0006, Train Accuracy: 1.0000, Val Loss: 0.0148, Val Accuracy: 0.9990\n",
      "Epoch [16/25], Train Loss: 0.0005, Train Accuracy: 1.0000, Val Loss: 0.0148, Val Accuracy: 0.9990\n",
      "Epoch [17/25], Train Loss: 0.0005, Train Accuracy: 1.0000, Val Loss: 0.0149, Val Accuracy: 0.9990\n",
      "Epoch [18/25], Train Loss: 0.0004, Train Accuracy: 1.0000, Val Loss: 0.0150, Val Accuracy: 0.9990\n",
      "Epoch [19/25], Train Loss: 0.0004, Train Accuracy: 1.0000, Val Loss: 0.0150, Val Accuracy: 0.9990\n",
      "Epoch [20/25], Train Loss: 0.0003, Train Accuracy: 1.0000, Val Loss: 0.0151, Val Accuracy: 0.9990\n",
      "Epoch [21/25], Train Loss: 0.0003, Train Accuracy: 1.0000, Val Loss: 0.0151, Val Accuracy: 0.9990\n",
      "Epoch [22/25], Train Loss: 0.0003, Train Accuracy: 1.0000, Val Loss: 0.0152, Val Accuracy: 0.9990\n",
      "Epoch [23/25], Train Loss: 0.0003, Train Accuracy: 1.0000, Val Loss: 0.0152, Val Accuracy: 0.9990\n",
      "Epoch [24/25], Train Loss: 0.0003, Train Accuracy: 1.0000, Val Loss: 0.0153, Val Accuracy: 0.9990\n",
      "Epoch [25/25], Train Loss: 0.0002, Train Accuracy: 1.0000, Val Loss: 0.0153, Val Accuracy: 0.9990\n"
     ]
    }
   ],
   "source": [
    "# Define loss and optimizer\n",
    "criterion = nn.CrossEntropyLoss()\n",
    "optimizer = optim.Adam(model.parameters(), lr=1e-3)\n",
    "\n",
    "# Training the model\n",
    "num_epochs = 25\n",
    "train_losses = []\n",
    "train_accuracies = []\n",
    "val_losses = []\n",
    "val_accuracies = []\n",
    "\n",
    "for epoch in range(num_epochs):\n",
    "    model.train()\n",
    "    train_loss = 0.0\n",
    "    correct_train = 0\n",
    "    total_train = 0\n",
    "    for inputs, labels in train_loader:\n",
    "        optimizer.zero_grad()\n",
    "        outputs = model(inputs.long())\n",
    "        loss = criterion(outputs, labels.long())\n",
    "        loss.backward()\n",
    "        optimizer.step()\n",
    "        train_loss += loss.item() * inputs.size(0)\n",
    "        _, predicted = torch.max(outputs, 1)\n",
    "        total_train += labels.size(0)\n",
    "        correct_train += (predicted == labels).sum().item()\n",
    "    train_loss /= len(train_loader.dataset)\n",
    "    train_accuracy = correct_train / total_train\n",
    "    train_losses.append(train_loss)\n",
    "    train_accuracies.append(train_accuracy)\n",
    "\n",
    "    model.eval()\n",
    "    val_loss = 0.0\n",
    "    correct_val = 0\n",
    "    total_val = 0\n",
    "    for inputs, labels in val_loader:\n",
    "        outputs = model(inputs.long())\n",
    "        loss = criterion(outputs, labels.long())\n",
    "        val_loss += loss.item() * inputs.size(0)\n",
    "        _, predicted = torch.max(outputs, 1)\n",
    "        total_val += labels.size(0)\n",
    "        correct_val += (predicted == labels).sum().item()\n",
    "    val_loss /= len(val_loader.dataset)\n",
    "    val_accuracy = correct_val / total_val\n",
    "    val_losses.append(val_loss)\n",
    "    val_accuracies.append(val_accuracy)\n",
    "\n",
    "    print(f'Epoch [{epoch+1}/{num_epochs}], Train Loss: {train_loss:.4f}, Train Accuracy: {train_accuracy:.4f}, Val Loss: {val_loss:.4f}, Val Accuracy: {val_accuracy:.4f}')\n"
   ]
  },
  {
   "cell_type": "code",
   "execution_count": 65,
   "id": "4eb0020d-2dd4-447e-a13e-b465c3af72de",
   "metadata": {},
   "outputs": [
    {
     "data": {
      "text/plain": [
       "<matplotlib.legend.Legend at 0x124519d2290>"
      ]
     },
     "execution_count": 65,
     "metadata": {},
     "output_type": "execute_result"
    },
    {
     "data": {
      "image/png": "[encoded data removed]",
      "text/plain": [
       "<Figure size 1000x800 with 1 Axes>"
      ]
     },
     "metadata": {},
     "output_type": "display_data"
    }
   ],
   "source": [
    "\n",
    "# Plotting the losses\n",
    "plt.figure(figsize=(10, 8))\n",
    "plt.plot(train_losses, label='Train Loss')\n",
    "plt.plot(val_losses, label='Val Loss')\n",
    "plt.xlabel('Epoch')\n",
    "plt.ylabel('Loss')\n",
    "plt.legend()"
   ]
  },
  {
   "cell_type": "code",
   "execution_count": 68,
   "id": "5fd56b02-ca36-4f86-97a8-2816f5fda3f8",
   "metadata": {},
   "outputs": [
    {
     "data": {
      "image/png": "[encoded data removed]",
      "text/plain": [
       "<Figure size 1000x800 with 1 Axes>"
      ]
     },
     "metadata": {},
     "output_type": "display_data"
    }
   ],
   "source": [
    "plt.figure(figsize=(10, 8))\n",
    "\n",
    "plt.plot(train_accuracies, label='Train Accuracy')\n",
    "plt.plot(val_accuracies, label='Val Accuracy')\n",
    "plt.xlabel('Epoch')\n",
    "plt.ylabel('Accuracy')\n",
    "plt.legend()\n",
    "plt.show()\n"
   ]
  },
  {
   "cell_type": "markdown",
   "id": "ad79cea9-eb4d-4bd0-bd62-51d9052149ea",
   "metadata": {},
   "source": [
    "# DEPLOYMENT"
   ]
  },
  {
   "cell_type": "code",
   "execution_count": 33,
   "id": "90e4f074-2d75-4cd2-a906-e6c59c1ed6c6",
   "metadata": {
    "scrolled": true
   },
   "outputs": [
    {
     "name": "stdout",
     "output_type": "stream",
     "text": [
      "How to family TEACH ABSTRACT SCHOOL! USE RUSSIAN\n",
      "Amazing trophy IGNORED What SNACK HOLIDAYS happened\n"
     ]
    }
   ],
   "source": [
    "import random\n",
    "\n",
    "def generate_text(seed_text, next_words, model, max_sequence_len, word_to_idx, idx_to_word):\n",
    "    output_idx = [word_to_idx[word] for word in seed_text.split()]\n",
    "    for _ in range(next_words):\n",
    "        token_list = torch.tensor(output_idx).unsqueeze(0)\n",
    "        with torch.no_grad():\n",
    "            preds = model(token_list)\n",
    "        # Sample from the probability distribution instead of selecting the most probable word\n",
    "        next_word_idx = torch.multinomial(F.softmax(preds, dim=1), 1).item()\n",
    "        output_idx.append(next_word_idx)\n",
    "        if len(output_idx) >= max_sequence_len:\n",
    "            break\n",
    "        \n",
    "    # Filter out padding index (0)\n",
    "    output_words = [idx_to_word[idx] for idx in output_idx if idx != 0]\n",
    "    generated_text = ' '.join(output_words)\n",
    "    return generated_text\n",
    "\n",
    "print(generate_text(\"How to\", 6, model, max_seq_len, word_to_idx, idx_to_word))\n",
    "print(generate_text(\"Amazing\", 6, model, max_seq_len, word_to_idx, idx_to_word))\n"
   ]
  },
  {
   "cell_type": "code",
   "execution_count": 35,
   "id": "800b0102-8ec0-4487-91a1-635fd23d0bb1",
   "metadata": {},
   "outputs": [
    {
     "name": "stdout",
     "output_type": "stream",
     "text": [
      "USEFUL 68 PRESERVE Tiny LIPS\n",
      "HELPFUL OR Lazy NOTEBOOKS Learning RESTAURANT\n"
     ]
    }
   ],
   "source": [
    "print(generate_text(\"USEFUL\", 6, model, max_seq_len, word_to_idx, idx_to_word))\n",
    "print(generate_text(\"HELPFUL\", 6, model, max_seq_len, word_to_idx, idx_to_word))"
   ]
  },
  {
   "cell_type": "code",
   "execution_count": null,
   "id": "3ac9c56b-3fee-4bb0-a8b9-39ca91fa7464",
   "metadata": {},
   "outputs": [],
   "source": []
  },
  {
   "cell_type": "code",
   "execution_count": null,
   "id": "0bf0061e-0eb3-42cf-9f80-f73df5c3a2f7",
   "metadata": {},
   "outputs": [],
   "source": []
  },
  {
   "cell_type": "markdown",
   "id": "1055c54b-9865-41fb-ade0-256f5efa78de",
   "metadata": {},
   "source": [
    "# MODEL 2"
   ]
  },
  {
   "cell_type": "code",
   "execution_count": 2,
   "id": "3e3661da",
   "metadata": {},
   "outputs": [],
   "source": [
    "import pandas as pd\n",
    "import numpy as np\n",
    "from sklearn.model_selection import train_test_split\n",
    "from tensorflow.keras.preprocessing.text import Tokenizer\n",
    "from tensorflow.keras.preprocessing.sequence import pad_sequences\n",
    "from tensorflow.keras.models import Sequential\n",
    "from tensorflow.keras.layers import Embedding, LSTM, Dense"
   ]
  },
  {
   "cell_type": "code",
   "execution_count": 6,
   "id": "2d0f4d9a-8d19-4917-a799-4728c703a7de",
   "metadata": {},
   "outputs": [
    {
     "data": {
      "text/html": [
       "<div>\n",
       "<style scoped>\n",
       "    .dataframe tbody tr th:only-of-type {\n",
       "        vertical-align: middle;\n",
       "    }\n",
       "\n",
       "    .dataframe tbody tr th {\n",
       "        vertical-align: top;\n",
       "    }\n",
       "\n",
       "    .dataframe thead th {\n",
       "        text-align: right;\n",
       "    }\n",
       "</style>\n",
       "<table border=\"1\" class=\"dataframe\">\n",
       "  <thead>\n",
       "    <tr style=\"text-align: right;\">\n",
       "      <th></th>\n",
       "      <th>id</th>\n",
       "      <th>year</th>\n",
       "      <th>title</th>\n",
       "      <th>event_type</th>\n",
       "      <th>pdf_name</th>\n",
       "      <th>abstract</th>\n",
       "      <th>paper_text</th>\n",
       "    </tr>\n",
       "  </thead>\n",
       "  <tbody>\n",
       "    <tr>\n",
       "      <th>0</th>\n",
       "      <td>1</td>\n",
       "      <td>1987</td>\n",
       "      <td>Self-Organization of Associative Database and ...</td>\n",
       "      <td>NaN</td>\n",
       "      <td>1-self-organization-of-associative-database-an...</td>\n",
       "      <td>Abstract Missing</td>\n",
       "      <td>767\\n\\nSELF-ORGANIZATION OF ASSOCIATIVE DATABA...</td>\n",
       "    </tr>\n",
       "    <tr>\n",
       "      <th>1</th>\n",
       "      <td>10</td>\n",
       "      <td>1987</td>\n",
       "      <td>A Mean Field Theory of Layer IV of Visual Cort...</td>\n",
       "      <td>NaN</td>\n",
       "      <td>10-a-mean-field-theory-of-layer-iv-of-visual-c...</td>\n",
       "      <td>Abstract Missing</td>\n",
       "      <td>683\\n\\nA MEAN FIELD THEORY OF LAYER IV OF VISU...</td>\n",
       "    </tr>\n",
       "    <tr>\n",
       "      <th>2</th>\n",
       "      <td>100</td>\n",
       "      <td>1988</td>\n",
       "      <td>Storing Covariance by the Associative Long-Ter...</td>\n",
       "      <td>NaN</td>\n",
       "      <td>100-storing-covariance-by-the-associative-long...</td>\n",
       "      <td>Abstract Missing</td>\n",
       "      <td>394\\n\\nSTORING COVARIANCE BY THE ASSOCIATIVE\\n...</td>\n",
       "    </tr>\n",
       "    <tr>\n",
       "      <th>3</th>\n",
       "      <td>1000</td>\n",
       "      <td>1994</td>\n",
       "      <td>Bayesian Query Construction for Neural Network...</td>\n",
       "      <td>NaN</td>\n",
       "      <td>1000-bayesian-query-construction-for-neural-ne...</td>\n",
       "      <td>Abstract Missing</td>\n",
       "      <td>Bayesian Query Construction for Neural\\nNetwor...</td>\n",
       "    </tr>\n",
       "    <tr>\n",
       "      <th>4</th>\n",
       "      <td>1001</td>\n",
       "      <td>1994</td>\n",
       "      <td>Neural Network Ensembles, Cross Validation, an...</td>\n",
       "      <td>NaN</td>\n",
       "      <td>1001-neural-network-ensembles-cross-validation...</td>\n",
       "      <td>Abstract Missing</td>\n",
       "      <td>Neural Network Ensembles, Cross\\nValidation, a...</td>\n",
       "    </tr>\n",
       "  </tbody>\n",
       "</table>\n",
       "</div>"
      ],
      "text/plain": [
       "     id  year                                              title event_type  \\\n",
       "0     1  1987  Self-Organization of Associative Database and ...        NaN   \n",
       "1    10  1987  A Mean Field Theory of Layer IV of Visual Cort...        NaN   \n",
       "2   100  1988  Storing Covariance by the Associative Long-Ter...        NaN   \n",
       "3  1000  1994  Bayesian Query Construction for Neural Network...        NaN   \n",
       "4  1001  1994  Neural Network Ensembles, Cross Validation, an...        NaN   \n",
       "\n",
       "                                            pdf_name          abstract  \\\n",
       "0  1-self-organization-of-associative-database-an...  Abstract Missing   \n",
       "1  10-a-mean-field-theory-of-layer-iv-of-visual-c...  Abstract Missing   \n",
       "2  100-storing-covariance-by-the-associative-long...  Abstract Missing   \n",
       "3  1000-bayesian-query-construction-for-neural-ne...  Abstract Missing   \n",
       "4  1001-neural-network-ensembles-cross-validation...  Abstract Missing   \n",
       "\n",
       "                                          paper_text  \n",
       "0  767\\n\\nSELF-ORGANIZATION OF ASSOCIATIVE DATABA...  \n",
       "1  683\\n\\nA MEAN FIELD THEORY OF LAYER IV OF VISU...  \n",
       "2  394\\n\\nSTORING COVARIANCE BY THE ASSOCIATIVE\\n...  \n",
       "3  Bayesian Query Construction for Neural\\nNetwor...  \n",
       "4  Neural Network Ensembles, Cross\\nValidation, a...  "
      ]
     },
     "execution_count": 6,
     "metadata": {},
     "output_type": "execute_result"
    }
   ],
   "source": [
    "import pandas as pd\n",
    "\n",
    "# Load the dataset into a DataFrame\n",
    "df = pd.read_csv('papers.csv')\n",
    "\n",
    "# Display the first few rows of the DataFrame\n",
    "df.head()"
   ]
  },
  {
   "cell_type": "code",
   "execution_count": 3,
   "id": "ada25602",
   "metadata": {},
   "outputs": [],
   "source": [
    "def train_and_evaluate(model, X_train, y_train, X_test, y_test, epochs=10, batch_size=64):\n",
    "    try:\n",
    "        model.fit(X_train, y_train, epochs=epochs, batch_size=batch_size)\n",
    "        loss, accuracy = model.evaluate(X_test, y_test)\n",
    "        print(f\"Test Loss: {loss}, Test Accuracy: {accuracy}\")\n",
    "\n",
    "    except Exception as e:\n",
    "        print(f\"An error occurred during training/evaluation: {str(e)}\")\n"
   ]
  },
  {
   "cell_type": "code",
   "execution_count": 5,
   "id": "07493445",
   "metadata": {},
   "outputs": [],
   "source": [
    "def preprocess_data(df):\n",
    "    if df is None or 'abstract' not in df.columns or 'title' not in df.columns:\n",
    "        print(\"Invalid dataset format. Expected 'abstract' and 'title' columns.\")\n",
    "        return None, None, None\n",
    "    \n",
    "    tokenizer = Tokenizer()\n",
    "    tokenizer.fit_on_texts(df['abstract'])\n",
    "    sequences = tokenizer.texts_to_sequences(df['abstract'])\n",
    "    \n",
    "    max_len = max(len(seq) for seq in sequences)\n",
    "    X = pad_sequences(sequences, maxlen=max_len, padding='post')\n",
    "    y = pad_sequences(tokenizer.texts_to_sequences(df['title']), maxlen=max_len, padding='post')\n",
    "    \n",
    "    vocab_size = len(tokenizer.word_index) + 1\n",
    "    \n",
    "    return X, y, vocab_size, max_len, tokenizer\n"
   ]
  },
  {
   "cell_type": "code",
   "execution_count": 1,
   "id": "bf00d382",
   "metadata": {
    "scrolled": true
   },
   "outputs": [
    {
     "name": "stdout",
     "output_type": "stream",
     "text": [
      "WARNING:tensorflow:From C:\\Users\\Administrator\\anaconda3\\Lib\\site-packages\\keras\\src\\losses.py:2976: The name tf.losses.sparse_softmax_cross_entropy is deprecated. Please use tf.compat.v1.losses.sparse_softmax_cross_entropy instead.\n",
      "\n",
      "WARNING:tensorflow:From C:\\Users\\Administrator\\anaconda3\\Lib\\site-packages\\keras\\src\\backend.py:873: The name tf.get_default_graph is deprecated. Please use tf.compat.v1.get_default_graph instead.\n",
      "\n",
      "WARNING:tensorflow:From C:\\Users\\Administrator\\anaconda3\\Lib\\site-packages\\keras\\src\\optimizers\\__init__.py:309: The name tf.train.Optimizer is deprecated. Please use tf.compat.v1.train.Optimizer instead.\n",
      "\n",
      "Epoch 1/10\n",
      "WARNING:tensorflow:From C:\\Users\\Administrator\\anaconda3\\Lib\\site-packages\\keras\\src\\utils\\tf_utils.py:492: The name tf.ragged.RaggedTensorValue is deprecated. Please use tf.compat.v1.ragged.RaggedTensorValue instead.\n",
      "\n",
      "WARNING:tensorflow:From C:\\Users\\Administrator\\anaconda3\\Lib\\site-packages\\keras\\src\\engine\\base_layer_utils.py:384: The name tf.executing_eagerly_outside_functions is deprecated. Please use tf.compat.v1.executing_eagerly_outside_functions instead.\n",
      "\n",
      "91/91 [==============================] - 463s 5s/step - loss: 2.6864 - accuracy: 0.9653\n",
      "Epoch 2/10\n",
      "91/91 [==============================] - 565s 6s/step - loss: 0.2324 - accuracy: 0.9775\n",
      "Epoch 3/10\n",
      "91/91 [==============================] - 649s 7s/step - loss: 0.2168 - accuracy: 0.9775\n",
      "Epoch 4/10\n",
      "91/91 [==============================] - 556s 6s/step - loss: 0.1883 - accuracy: 0.9776\n",
      "Epoch 5/10\n",
      "91/91 [==============================] - 637s 7s/step - loss: 0.1760 - accuracy: 0.9776\n",
      "Epoch 6/10\n",
      "91/91 [==============================] - 694s 7s/step - loss: 0.1709 - accuracy: 0.9777\n",
      "Epoch 7/10\n",
      "91/91 [==============================] - 787s 8s/step - loss: 0.1684 - accuracy: 0.9779\n",
      "Epoch 8/10\n",
      "91/91 [==============================] - 774s 8s/step - loss: 0.1662 - accuracy: 0.9779\n",
      "Epoch 9/10\n",
      "91/91 [==============================] - 665s 7s/step - loss: 0.1647 - accuracy: 0.9780\n",
      "Epoch 10/10\n",
      "91/91 [==============================] - 633s 7s/step - loss: 0.1636 - accuracy: 0.9780\n",
      "46/46 [==============================] - 88s 2s/step - loss: 0.1706 - accuracy: 0.9778\n",
      "Test Loss: 0.17055605351924896, Test Accuracy: 0.9778226017951965\n"
     ]
    }
   ],
   "source": [
    "\n",
    "def main():\n",
    "    # Specify the path to the CSV file containing the dataset\n",
    "    csv_file_path = 'papers.csv'\n",
    "\n",
    "    # Load the dataset\n",
    "    dataset = load_dataset(csv_file_path)\n",
    "\n",
    "    if dataset is None:\n",
    "        return\n",
    "\n",
    "    # Preprocess the data\n",
    "    X, y, vocab_size, max_len, tokenizer = preprocess_data(dataset)\n",
    "\n",
    "    if X is None or y is None:\n",
    "        return\n",
    "\n",
    "    # Split the data into train and test sets\n",
    "    X_train, X_test, y_train, y_test = train_test_split(X, y, test_size=0.2, random_state=42)\n",
    "\n",
    "    # Build the LSTM model\n",
    "    embedding_dim = 100\n",
    "    model = build_model(vocab_size, embedding_dim, max_len)\n",
    "\n",
    "    # Train and evaluate the model\n",
    "    train_and_evaluate(model, X_train, y_train, X_test, y_test, epochs=10)\n",
    "\n",
    "if __name__ == \"__main__\":\n",
    "    main()\n"
   ]
  },
  {
   "cell_type": "markdown",
   "id": "e708037c-08b7-47cf-8413-1980a941d790",
   "metadata": {},
   "source": [
    "# MODEL #NEURAL NETWORK"
   ]
  },
  {
   "cell_type": "code",
   "execution_count": 1,
   "id": "ec424339-0cf9-451c-a024-748ec9c8bc2c",
   "metadata": {},
   "outputs": [
    {
     "name": "stdout",
     "output_type": "stream",
     "text": [
      "Epoch 1/50, Loss: 103851174532218.88\n",
      "Epoch 2/50, Loss: 103865140952170.5\n",
      "Epoch 3/50, Loss: 104037613127598.08\n",
      "Epoch 4/50, Loss: 103894346213883.9\n",
      "Epoch 5/50, Loss: 103827897445253.12\n",
      "Epoch 6/50, Loss: 103836672889716.73\n",
      "Epoch 7/50, Loss: 103891087432613.89\n",
      "Epoch 8/50, Loss: 103968281517359.11\n",
      "Epoch 9/50, Loss: 103867837235331.08\n",
      "Epoch 10/50, Loss: 103836776061206.53\n",
      "Epoch 11/50, Loss: 104031248288055.3\n",
      "Epoch 12/50, Loss: 103833355853758.47\n",
      "Epoch 13/50, Loss: 104090018112339.97\n",
      "Epoch 14/50, Loss: 103895987050774.53\n",
      "Epoch 15/50, Loss: 103968198197510.14\n",
      "Epoch 16/50, Loss: 104280116523171.84\n",
      "Epoch 17/50, Loss: 103853273953337.34\n",
      "Epoch 18/50, Loss: 104087910751404.03\n",
      "Epoch 19/50, Loss: 103919005026222.08\n",
      "Epoch 20/50, Loss: 103832377893060.61\n",
      "Epoch 21/50, Loss: 103965947575926.78\n",
      "Epoch 22/50, Loss: 103861492595556.36\n",
      "Epoch 23/50, Loss: 104763567462416.39\n",
      "Epoch 24/50, Loss: 103937633075331.08\n",
      "Epoch 25/50, Loss: 103827398654427.14\n",
      "Epoch 26/50, Loss: 103820906081550.34\n",
      "Epoch 27/50, Loss: 103937692357623.81\n",
      "Epoch 28/50, Loss: 104281299971211.27\n",
      "Epoch 29/50, Loss: 104040871510409.22\n",
      "Epoch 30/50, Loss: 103847551318360.06\n",
      "Epoch 31/50, Loss: 104235072126713.86\n",
      "Epoch 32/50, Loss: 103828303026061.31\n",
      "Epoch 33/50, Loss: 103822558683463.69\n",
      "Epoch 34/50, Loss: 103934573301202.94\n",
      "Epoch 35/50, Loss: 103818154144169.98\n",
      "Epoch 36/50, Loss: 103781429472657.4\n",
      "Epoch 37/50, Loss: 103792168354709.5\n",
      "Epoch 38/50, Loss: 103752618647486.47\n",
      "Epoch 39/50, Loss: 103957759053004.8\n",
      "Epoch 40/50, Loss: 103779450692304.89\n",
      "Epoch 41/50, Loss: 104290348989153.28\n",
      "Epoch 42/50, Loss: 103792848003923.97\n",
      "Epoch 43/50, Loss: 104022355495354.38\n",
      "Epoch 44/50, Loss: 104112723142377.47\n",
      "Epoch 45/50, Loss: 106299842308866.05\n",
      "Epoch 46/50, Loss: 103733356272812.03\n",
      "Epoch 47/50, Loss: 104190229509832.7\n",
      "Epoch 48/50, Loss: 103894094784233.47\n",
      "Epoch 49/50, Loss: 103753838485307.39\n",
      "Epoch 50/50, Loss: 103740032921108.48\n"
     ]
    }
   ],
   "source": [
    "import pandas as pd\n",
    "import numpy as np\n",
    "import torch\n",
    "import torch.nn as nn\n",
    "import torch.optim as optim\n",
    "from torch.utils.data import Dataset, DataLoader\n",
    "from sklearn.model_selection import train_test_split\n",
    "from sklearn.preprocessing import StandardScaler\n",
    "from sklearn.metrics import classification_report\n",
    "\n",
    "# Load the dataset\n",
    "df = pd.read_csv('5-Minute Crafts.csv')\n",
    "\n",
    "# Define a custom PyTorch Dataset\n",
    "class TitleDataset(Dataset):\n",
    "    def __init__(self, data, scaler):\n",
    "        self.X = scaler.transform(data.drop(columns=['title', 'video_id']))\n",
    "        self.y = torch.tensor(data['total_views'].values, dtype=torch.float32).view(-1, 1)\n",
    "\n",
    "    def __len__(self):\n",
    "        return len(self.X)\n",
    "\n",
    "    def __getitem__(self, idx):\n",
    "        return torch.tensor(self.X[idx], dtype=torch.float32), self.y[idx]\n",
    "\n",
    "# Split data into training and testing sets\n",
    "train_df, test_df = train_test_split(df, test_size=0.2, random_state=42)\n",
    "\n",
    "# Standardize the features\n",
    "scaler = StandardScaler()\n",
    "scaler.fit(train_df.drop(columns=['title', 'video_id']))\n",
    "\n",
    "# Create DataLoader for training and testing sets\n",
    "train_dataset = TitleDataset(train_df, scaler)\n",
    "test_dataset = TitleDataset(test_df, scaler)\n",
    "train_loader = DataLoader(train_dataset, batch_size=32, shuffle=True)\n",
    "test_loader = DataLoader(test_dataset, batch_size=32)\n",
    "\n",
    "# Define a simple feedforward neural network model\n",
    "class TitleGenerator(nn.Module):\n",
    "    def __init__(self, input_dim, hidden_dim, output_dim):\n",
    "        super(TitleGenerator, self).__init__()\n",
    "        self.fc1 = nn.Linear(input_dim, hidden_dim)\n",
    "        self.fc2 = nn.Linear(hidden_dim, output_dim)\n",
    "\n",
    "    def forward(self, x):\n",
    "        x = torch.relu(self.fc1(x))\n",
    "        x = self.fc2(x)\n",
    "        return x\n",
    "\n",
    "# Define hyperparameters\n",
    "input_dim = train_dataset.X.shape[1]\n",
    "hidden_dim = 128\n",
    "output_dim = 1\n",
    "learning_rate = 0.001\n",
    "epochs = 50\n",
    "\n",
    "# Initialize model, loss function, and optimizer\n",
    "model = TitleGenerator(input_dim, hidden_dim, output_dim)\n",
    "criterion = nn.MSELoss()\n",
    "optimizer = optim.Adam(model.parameters(), lr=learning_rate)\n",
    "\n",
    "# Train the model\n",
    "for epoch in range(epochs):\n",
    "    model.train()\n",
    "    running_loss = 0.0\n",
    "    for inputs, targets in train_loader:\n",
    "        optimizer.zero_grad()\n",
    "        outputs = model(inputs)\n",
    "        loss = criterion(outputs, targets)\n",
    "        loss.backward()\n",
    "        optimizer.step()\n",
    "        running_loss += loss.item()\n",
    "    print(f'Epoch {epoch+1}/{epochs}, Loss: {running_loss/len(train_loader)}')\n",
    "\n",
    "# Evaluate the model\n",
    "model.eval()\n",
    "test_loss = 0.0\n",
    "predictions = []\n",
    "true_labels = []\n",
    "with torch.no_grad():\n",
    "    for inputs, targets in test_loader:\n",
    "        outputs = model(inputs)\n",
    "        loss = criterion(outputs, targets)\n",
    "        test_loss += loss.item()\n",
    "        predictions.extend((outputs.numpy() >= 1_000_000).astype(int))\n",
    "        true_labels.extend((targets.numpy() >= 1_000_000).astype(int))\n",
    "\n"
   ]
  },
  {
   "cell_type": "code",
   "execution_count": 2,
   "id": "88532edb-975a-46ac-995c-17f27811da2f",
   "metadata": {},
   "outputs": [
    {
     "name": "stdout",
     "output_type": "stream",
     "text": [
      "Test Loss: 166512425893888.0\n",
      "              precision    recall  f1-score   support\n",
      "\n",
      "           0       0.41      1.00      0.59       412\n",
      "           1       0.00      0.00      0.00       584\n",
      "\n",
      "    accuracy                           0.41       996\n",
      "   macro avg       0.21      0.50      0.29       996\n",
      "weighted avg       0.17      0.41      0.24       996\n",
      "\n"
     ]
    },
    {
     "name": "stderr",
     "output_type": "stream",
     "text": [
      "C:\\Users\\MUMBI\\anaconda3\\Lib\\site-packages\\sklearn\\metrics\\_classification.py:1344: UndefinedMetricWarning: Precision and F-score are ill-defined and being set to 0.0 in labels with no predicted samples. Use `zero_division` parameter to control this behavior.\n",
      "  _warn_prf(average, modifier, msg_start, len(result))\n",
      "C:\\Users\\MUMBI\\anaconda3\\Lib\\site-packages\\sklearn\\metrics\\_classification.py:1344: UndefinedMetricWarning: Precision and F-score are ill-defined and being set to 0.0 in labels with no predicted samples. Use `zero_division` parameter to control this behavior.\n",
      "  _warn_prf(average, modifier, msg_start, len(result))\n",
      "C:\\Users\\MUMBI\\anaconda3\\Lib\\site-packages\\sklearn\\metrics\\_classification.py:1344: UndefinedMetricWarning: Precision and F-score are ill-defined and being set to 0.0 in labels with no predicted samples. Use `zero_division` parameter to control this behavior.\n",
      "  _warn_prf(average, modifier, msg_start, len(result))\n"
     ]
    }
   ],
   "source": [
    "\n",
    "print(f'Test Loss: {test_loss/len(test_loader)}')\n",
    "print(classification_report(true_labels, predictions))"
   ]
  },
  {
   "cell_type": "code",
   "execution_count": null,
   "id": "2616c506-194f-4c29-bb1f-b8015f313d02",
   "metadata": {},
   "outputs": [],
   "source": []
  }
 ],
 "metadata": {
  "kernelspec": {
   "display_name": "Python 3 (ipykernel)",
   "language": "python",
   "name": "python3"
  },
  "language_info": {
   "codemirror_mode": {
    "name": "ipython",
    "version": 3
   },
   "file_extension": ".py",
   "mimetype": "text/x-python",
   "name": "python",
   "nbconvert_exporter": "python",
   "pygments_lexer": "ipython3",
   "version": "3.11.7"
  }
 },
 "nbformat": 4,
 "nbformat_minor": 5
}
